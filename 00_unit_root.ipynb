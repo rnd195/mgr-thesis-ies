{
 "cells": [
  {
   "cell_type": "code",
   "execution_count": 1,
   "metadata": {
    "ExecuteTime": {
     "end_time": "2023-04-27T13:45:59.976841Z",
     "start_time": "2023-04-27T13:45:58.572Z"
    },
    "vscode": {
     "languageId": "r"
    }
   },
   "outputs": [
    {
     "name": "stderr",
     "output_type": "stream",
     "text": [
      "Loading required package: librarian\n",
      "\n"
     ]
    },
    {
     "data": {
      "text/html": [
       "'English_United States.1252'"
      ],
      "text/latex": [
       "'English\\_United States.1252'"
      ],
      "text/markdown": [
       "'English_United States.1252'"
      ],
      "text/plain": [
       "[1] \"English_United States.1252\""
      ]
     },
     "metadata": {},
     "output_type": "display_data"
    }
   ],
   "source": [
    "## --------------------\n",
    "## Author: Martin Řanda\n",
    "## Year: 2023\n",
    "##\n",
    "## R Version 4.2.2\n",
    "## Package versions:\n",
    "## aTSA 3.1.2\n",
    "## dplyr 1.0.10\n",
    "## forecast 8.21\n",
    "## librarian 1.8.1\n",
    "## tseries 0.10-53\n",
    "## xts 0.13.0\n",
    "## zoo 1.8.11\n",
    "##\n",
    "## --------------------\n",
    "if (!require(librarian)) install.packages(\"librarian\")\n",
    "librarian::shelf(dplyr, xts, aTSA, forecast, tseries)\n",
    "# Set timezone to CET, locale to English\n",
    "Sys.setenv(TZ = \"CET\")\n",
    "Sys.setlocale(\"LC_TIME\", \"English\")\n",
    "\n",
    "series_raw <- readRDS(\"data/series_1h_2011_2021_xts.rds\")\n",
    "series_m_raw <- readRDS(\"minutes/data/load_1min_2011_2021_xts.rds\")"
   ]
  },
  {
   "cell_type": "markdown",
   "metadata": {},
   "source": [
    "### Unit root tests\n",
    "\n",
    "Raw data, all variables."
   ]
  },
  {
   "cell_type": "code",
   "execution_count": 3,
   "metadata": {
    "ExecuteTime": {
     "end_time": "2023-03-11T16:53:15.444544Z",
     "start_time": "2023-03-11T16:45:40.142Z"
    },
    "vscode": {
     "languageId": "r"
    }
   },
   "outputs": [
    {
     "name": "stdout",
     "output_type": "stream",
     "text": [
      "Augmented Dickey-Fuller Test \n",
      "alternative: stationary \n",
      " \n",
      "Type 1: no drift no trend \n",
      "      lag  ADF p.value\n",
      " [1,]   0 4.37    0.99\n",
      " [2,]   1 5.04    0.99\n",
      " [3,]   2 5.19    0.99\n",
      " [4,]   3 5.14    0.99\n",
      " [5,]   4 5.08    0.99\n",
      " [6,]   5 4.95    0.99\n",
      " [7,]   6 4.82    0.99\n",
      " [8,]   7 4.65    0.99\n",
      " [9,]   8 4.47    0.99\n",
      "[10,]   9 4.30    0.99\n",
      "Type 2: with drift no trend \n",
      "      lag  ADF p.value\n",
      " [1,]   0 26.0    0.99\n",
      " [2,]   1 30.0    0.99\n",
      " [3,]   2 30.9    0.99\n",
      " [4,]   3 30.6    0.99\n",
      " [5,]   4 30.2    0.99\n",
      " [6,]   5 29.5    0.99\n",
      " [7,]   6 28.7    0.99\n",
      " [8,]   7 27.7    0.99\n",
      " [9,]   8 26.6    0.99\n",
      "[10,]   9 25.6    0.99\n",
      "Type 3: with drift and trend \n",
      "      lag  ADF p.value\n",
      " [1,]   0 26.4    0.99\n",
      " [2,]   1 30.4    0.99\n",
      " [3,]   2 31.4    0.99\n",
      " [4,]   3 31.1    0.99\n",
      " [5,]   4 30.7    0.99\n",
      " [6,]   5 29.9    0.99\n",
      " [7,]   6 29.2    0.99\n",
      " [8,]   7 28.1    0.99\n",
      " [9,]   8 27.0    0.99\n",
      "[10,]   9 26.0    0.99\n",
      "---- \n",
      "Note: in fact, p.value = 0.01 means p.value <= 0.01 \n"
     ]
    }
   ],
   "source": [
    "aTSA::adf.test(series_m_raw, nlag = 10)\n"
   ]
  },
  {
   "cell_type": "code",
   "execution_count": 4,
   "metadata": {
    "ExecuteTime": {
     "end_time": "2023-03-11T16:53:21.490201Z",
     "start_time": "2023-03-11T16:45:40.143Z"
    },
    "scrolled": true,
    "vscode": {
     "languageId": "r"
    }
   },
   "outputs": [
    {
     "name": "stdout",
     "output_type": "stream",
     "text": [
      "Augmented Dickey-Fuller Test \n",
      "alternative: stationary \n",
      " \n",
      "Type 1: no drift no trend \n",
      "      lag    ADF p.value\n",
      " [1,]   0  5.761  0.9900\n",
      " [2,]   1 -4.866  0.0100\n",
      " [3,]   2 -2.614  0.0100\n",
      " [4,]   3 -2.638  0.0100\n",
      " [5,]   4 -1.897  0.0580\n",
      " [6,]   5 -2.154  0.0318\n",
      " [7,]   6 -0.166  0.5983\n",
      " [8,]   7  0.847  0.8876\n",
      " [9,]   8  1.180  0.9371\n",
      "[10,]   9  1.416  0.9600\n",
      "Type 2: with drift no trend \n",
      "      lag    ADF p.value\n",
      " [1,]   0  34.47   0.990\n",
      " [2,]   1 -29.99   0.010\n",
      " [3,]   2 -16.46   0.010\n",
      " [4,]   3 -17.05   0.010\n",
      " [5,]   4 -12.52   0.010\n",
      " [6,]   5 -14.59   0.010\n",
      " [7,]   6  -1.12   0.661\n",
      " [8,]   7   5.93   0.990\n",
      " [9,]   8   8.34   0.990\n",
      "[10,]   9  10.17   0.990\n",
      "Type 3: with drift and trend \n",
      "      lag    ADF p.value\n",
      " [1,]   0  34.99   0.990\n",
      " [2,]   1 -30.46   0.010\n",
      " [3,]   2 -16.73   0.010\n",
      " [4,]   3 -17.34   0.010\n",
      " [5,]   4 -12.75   0.010\n",
      " [6,]   5 -14.87   0.010\n",
      " [7,]   6  -1.13   0.919\n",
      " [8,]   7   6.06   0.990\n",
      " [9,]   8   8.52   0.990\n",
      "[10,]   9  10.40   0.990\n",
      "---- \n",
      "Note: in fact, p.value = 0.01 means p.value <= 0.01 \n"
     ]
    }
   ],
   "source": [
    "aTSA::adf.test(series_raw[, \"load_mw\"], nlag = 10)\n"
   ]
  },
  {
   "cell_type": "code",
   "execution_count": 5,
   "metadata": {
    "ExecuteTime": {
     "end_time": "2023-03-11T16:53:27.236790Z",
     "start_time": "2023-03-11T16:45:40.146Z"
    },
    "vscode": {
     "languageId": "r"
    }
   },
   "outputs": [
    {
     "name": "stdout",
     "output_type": "stream",
     "text": [
      "Augmented Dickey-Fuller Test \n",
      "alternative: stationary \n",
      " \n",
      "Type 1: no drift no trend \n",
      "      lag     ADF p.value\n",
      " [1,]   0  0.0539   0.661\n",
      " [2,]   1 -0.0769   0.624\n",
      " [3,]   2 -0.1295   0.609\n",
      " [4,]   3 -0.1276   0.609\n",
      " [5,]   4 -0.1082   0.615\n",
      " [6,]   5 -0.1008   0.617\n",
      " [7,]   6 -0.1028   0.616\n",
      " [8,]   7 -0.1106   0.614\n",
      " [9,]   8 -0.1180   0.612\n",
      "[10,]   9 -0.1215   0.611\n",
      "Type 2: with drift no trend \n",
      "      lag    ADF p.value\n",
      " [1,]   0   8.35    0.99\n",
      " [2,]   1  -8.86    0.01\n",
      " [3,]   2 -15.33    0.01\n",
      " [4,]   3 -15.45    0.01\n",
      " [5,]   4 -13.52    0.01\n",
      " [6,]   5 -12.59    0.01\n",
      " [7,]   6 -12.73    0.01\n",
      " [8,]   7 -13.55    0.01\n",
      " [9,]   8 -14.61    0.01\n",
      "[10,]   9 -15.29    0.01\n",
      "Type 3: with drift and trend \n",
      "      lag    ADF p.value\n",
      " [1,]   0   8.35    0.99\n",
      " [2,]   1  -8.86    0.01\n",
      " [3,]   2 -15.34    0.01\n",
      " [4,]   3 -15.45    0.01\n",
      " [5,]   4 -13.52    0.01\n",
      " [6,]   5 -12.59    0.01\n",
      " [7,]   6 -12.73    0.01\n",
      " [8,]   7 -13.55    0.01\n",
      " [9,]   8 -14.61    0.01\n",
      "[10,]   9 -15.29    0.01\n",
      "---- \n",
      "Note: in fact, p.value = 0.01 means p.value <= 0.01 \n"
     ]
    }
   ],
   "source": [
    "aTSA::adf.test(series_raw[, \"air_pressure\"], nlag = 10)\n"
   ]
  },
  {
   "cell_type": "code",
   "execution_count": 6,
   "metadata": {
    "ExecuteTime": {
     "end_time": "2023-03-11T16:53:32.682688Z",
     "start_time": "2023-03-11T16:45:40.148Z"
    },
    "vscode": {
     "languageId": "r"
    }
   },
   "outputs": [
    {
     "name": "stdout",
     "output_type": "stream",
     "text": [
      "Augmented Dickey-Fuller Test \n",
      "alternative: stationary \n",
      " \n",
      "Type 1: no drift no trend \n",
      "      lag  ADF p.value\n",
      " [1,]   0 35.7    0.99\n",
      " [2,]   1 35.1    0.99\n",
      " [3,]   2 32.8    0.99\n",
      " [4,]   3 32.6    0.99\n",
      " [5,]   4 33.6    0.99\n",
      " [6,]   5 35.6    0.99\n",
      " [7,]   6 37.2    0.99\n",
      " [8,]   7 38.1    0.99\n",
      " [9,]   8 39.0    0.99\n",
      "[10,]   9 40.0    0.99\n",
      "Type 2: with drift no trend \n",
      "      lag  ADF p.value\n",
      " [1,]   0 35.8    0.99\n",
      " [2,]   1 35.3    0.99\n",
      " [3,]   2 32.9    0.99\n",
      " [4,]   3 32.7    0.99\n",
      " [5,]   4 33.7    0.99\n",
      " [6,]   5 35.8    0.99\n",
      " [7,]   6 37.4    0.99\n",
      " [8,]   7 38.2    0.99\n",
      " [9,]   8 39.2    0.99\n",
      "[10,]   9 40.2    0.99\n",
      "Type 3: with drift and trend \n",
      "      lag  ADF p.value\n",
      " [1,]   0 35.8    0.99\n",
      " [2,]   1 35.3    0.99\n",
      " [3,]   2 32.9    0.99\n",
      " [4,]   3 32.7    0.99\n",
      " [5,]   4 33.7    0.99\n",
      " [6,]   5 35.8    0.99\n",
      " [7,]   6 37.4    0.99\n",
      " [8,]   7 38.3    0.99\n",
      " [9,]   8 39.2    0.99\n",
      "[10,]   9 40.2    0.99\n",
      "---- \n",
      "Note: in fact, p.value = 0.01 means p.value <= 0.01 \n"
     ]
    }
   ],
   "source": [
    "aTSA::adf.test(series_raw[, \"air_pressure_diff\"], nlag = 10)\n"
   ]
  },
  {
   "cell_type": "code",
   "execution_count": 7,
   "metadata": {
    "ExecuteTime": {
     "end_time": "2023-03-11T16:53:38.082295Z",
     "start_time": "2023-03-11T16:45:40.149Z"
    },
    "vscode": {
     "languageId": "r"
    }
   },
   "outputs": [
    {
     "name": "stdout",
     "output_type": "stream",
     "text": [
      "Augmented Dickey-Fuller Test \n",
      "alternative: stationary \n",
      " \n",
      "Type 1: no drift no trend \n",
      "      lag   ADF p.value\n",
      " [1,]   0 19.32    0.99\n",
      " [2,]   1  4.80    0.99\n",
      " [3,]   2  5.80    0.99\n",
      " [4,]   3  9.61    0.99\n",
      " [5,]   4 12.19    0.99\n",
      " [6,]   5 14.26    0.99\n",
      " [7,]   6 16.06    0.99\n",
      " [8,]   7 17.67    0.99\n",
      " [9,]   8 19.21    0.99\n",
      "[10,]   9 19.93    0.99\n",
      "Type 2: with drift no trend \n",
      "      lag   ADF p.value\n",
      " [1,]   0 32.86    0.99\n",
      " [2,]   1  8.24    0.99\n",
      " [3,]   2 10.02    0.99\n",
      " [4,]   3 16.73    0.99\n",
      " [5,]   4 21.34    0.99\n",
      " [6,]   5 25.09    0.99\n",
      " [7,]   6 28.36    0.99\n",
      " [8,]   7 31.30    0.99\n",
      " [9,]   8 34.12    0.99\n",
      "[10,]   9 35.47    0.99\n",
      "Type 3: with drift and trend \n",
      "      lag   ADF p.value\n",
      " [1,]   0 33.90    0.99\n",
      " [2,]   1  8.51    0.99\n",
      " [3,]   2 10.36    0.99\n",
      " [4,]   3 17.31    0.99\n",
      " [5,]   4 22.09    0.99\n",
      " [6,]   5 25.97    0.99\n",
      " [7,]   6 29.37    0.99\n",
      " [8,]   7 32.43    0.99\n",
      " [9,]   8 35.36    0.99\n",
      "[10,]   9 36.77    0.99\n",
      "---- \n",
      "Note: in fact, p.value = 0.01 means p.value <= 0.01 \n"
     ]
    }
   ],
   "source": [
    "aTSA::adf.test(series_raw[, \"price_eur_mwh\"], nlag = 10)\n"
   ]
  },
  {
   "cell_type": "code",
   "execution_count": 8,
   "metadata": {
    "ExecuteTime": {
     "end_time": "2023-03-11T16:53:43.492585Z",
     "start_time": "2023-03-11T16:45:40.152Z"
    },
    "vscode": {
     "languageId": "r"
    }
   },
   "outputs": [
    {
     "name": "stdout",
     "output_type": "stream",
     "text": [
      "Augmented Dickey-Fuller Test \n",
      "alternative: stationary \n",
      " \n",
      "Type 1: no drift no trend \n",
      "      lag    ADF p.value\n",
      " [1,]   0  8.482  0.9900\n",
      " [2,]   1 -0.107  0.6150\n",
      " [3,]   2 -2.883  0.0100\n",
      " [4,]   3 -3.071  0.0100\n",
      " [5,]   4 -2.149  0.0323\n",
      " [6,]   5 -0.993  0.3257\n",
      " [7,]   6  0.385  0.7556\n",
      " [8,]   7  1.608  0.9741\n",
      " [9,]   8  2.803  0.9900\n",
      "[10,]   9  3.966  0.9900\n",
      "Type 2: with drift no trend \n",
      "      lag    ADF p.value\n",
      " [1,]   0 13.247   0.990\n",
      " [2,]   1 -0.197   0.934\n",
      " [3,]   2 -4.564   0.010\n",
      " [4,]   3 -4.871   0.010\n",
      " [5,]   4 -3.423   0.010\n",
      " [6,]   5 -1.599   0.488\n",
      " [7,]   6  0.582   0.989\n",
      " [8,]   7  2.525   0.990\n",
      " [9,]   8  4.433   0.990\n",
      "[10,]   9  6.288   0.990\n",
      "Type 3: with drift and trend \n",
      "      lag    ADF p.value\n",
      " [1,]   0 13.259  0.9900\n",
      " [2,]   1 -0.195  0.9900\n",
      " [3,]   2 -4.564  0.0100\n",
      " [4,]   3 -4.872  0.0100\n",
      " [5,]   4 -3.422  0.0489\n",
      " [6,]   5 -1.597  0.7506\n",
      " [7,]   6  0.586  0.9900\n",
      " [8,]   7  2.530  0.9900\n",
      " [9,]   8  4.439  0.9900\n",
      "[10,]   9  6.295  0.9900\n",
      "---- \n",
      "Note: in fact, p.value = 0.01 means p.value <= 0.01 \n"
     ]
    }
   ],
   "source": [
    "aTSA::adf.test(series_raw[, \"temperature\"], nlag = 10)\n"
   ]
  },
  {
   "cell_type": "code",
   "execution_count": 9,
   "metadata": {
    "ExecuteTime": {
     "end_time": "2023-03-11T16:53:49.062499Z",
     "start_time": "2023-03-11T16:45:40.154Z"
    },
    "vscode": {
     "languageId": "r"
    }
   },
   "outputs": [
    {
     "name": "stdout",
     "output_type": "stream",
     "text": [
      "Augmented Dickey-Fuller Test \n",
      "alternative: stationary \n",
      " \n",
      "Type 1: no drift no trend \n",
      "      lag    ADF p.value\n",
      " [1,]   0  44.42    0.99\n",
      " [2,]   1  -6.45    0.01\n",
      " [3,]   2 -26.18    0.01\n",
      " [4,]   3 -29.35    0.01\n",
      " [5,]   4 -24.54    0.01\n",
      " [6,]   5 -15.79    0.01\n",
      " [7,]   6  -5.30    0.01\n",
      " [8,]   7   5.95    0.99\n",
      " [9,]   8  18.47    0.99\n",
      "[10,]   9  30.49    0.99\n",
      "Type 2: with drift no trend \n",
      "      lag    ADF p.value\n",
      " [1,]   0  45.45    0.99\n",
      " [2,]   1  -6.61    0.01\n",
      " [3,]   2 -26.92    0.01\n",
      " [4,]   3 -30.29    0.01\n",
      " [5,]   4 -25.44    0.01\n",
      " [6,]   5 -16.45    0.01\n",
      " [7,]   6  -5.55    0.01\n",
      " [8,]   7   6.27    0.99\n",
      " [9,]   8  19.54    0.99\n",
      "[10,]   9  32.40    0.99\n",
      "Type 3: with drift and trend \n",
      "      lag    ADF p.value\n",
      " [1,]   0  45.45    0.99\n",
      " [2,]   1  -6.61    0.01\n",
      " [3,]   2 -26.92    0.01\n",
      " [4,]   3 -30.29    0.01\n",
      " [5,]   4 -25.44    0.01\n",
      " [6,]   5 -16.45    0.01\n",
      " [7,]   6  -5.55    0.01\n",
      " [8,]   7   6.27    0.99\n",
      " [9,]   8  19.54    0.99\n",
      "[10,]   9  32.40    0.99\n",
      "---- \n",
      "Note: in fact, p.value = 0.01 means p.value <= 0.01 \n"
     ]
    }
   ],
   "source": [
    "aTSA::adf.test(series_raw[, \"temperature_diff\"], nlag = 10)\n"
   ]
  },
  {
   "cell_type": "code",
   "execution_count": 10,
   "metadata": {
    "ExecuteTime": {
     "end_time": "2023-03-11T16:53:54.589337Z",
     "start_time": "2023-03-11T16:45:40.156Z"
    },
    "vscode": {
     "languageId": "r"
    }
   },
   "outputs": [
    {
     "name": "stdout",
     "output_type": "stream",
     "text": [
      "Augmented Dickey-Fuller Test \n",
      "alternative: stationary \n",
      " \n",
      "Type 1: no drift no trend \n",
      "      lag  ADF p.value\n",
      " [1,]   0 20.4    0.99\n",
      " [2,]   1 20.0    0.99\n",
      " [3,]   2 19.4    0.99\n",
      " [4,]   3 19.1    0.99\n",
      " [5,]   4 19.2    0.99\n",
      " [6,]   5 19.7    0.99\n",
      " [7,]   6 20.5    0.99\n",
      " [8,]   7 21.4    0.99\n",
      " [9,]   8 22.5    0.99\n",
      "[10,]   9 23.6    0.99\n",
      "Type 2: with drift no trend \n",
      "      lag  ADF p.value\n",
      " [1,]   0 42.4    0.99\n",
      " [2,]   1 41.9    0.99\n",
      " [3,]   2 40.9    0.99\n",
      " [4,]   3 40.6    0.99\n",
      " [5,]   4 41.1    0.99\n",
      " [6,]   5 42.6    0.99\n",
      " [7,]   6 44.7    0.99\n",
      " [8,]   7 47.1    0.99\n",
      " [9,]   8 49.8    0.99\n",
      "[10,]   9 52.6    0.99\n",
      "Type 3: with drift and trend \n",
      "      lag  ADF p.value\n",
      " [1,]   0 42.8    0.99\n",
      " [2,]   1 42.3    0.99\n",
      " [3,]   2 41.3    0.99\n",
      " [4,]   3 41.0    0.99\n",
      " [5,]   4 41.5    0.99\n",
      " [6,]   5 43.0    0.99\n",
      " [7,]   6 45.2    0.99\n",
      " [8,]   7 47.6    0.99\n",
      " [9,]   8 50.3    0.99\n",
      "[10,]   9 53.2    0.99\n",
      "---- \n",
      "Note: in fact, p.value = 0.01 means p.value <= 0.01 \n"
     ]
    }
   ],
   "source": [
    "aTSA::adf.test(series_raw[, \"visibility_distance\"], nlag = 10)\n"
   ]
  },
  {
   "cell_type": "code",
   "execution_count": 11,
   "metadata": {
    "ExecuteTime": {
     "end_time": "2023-03-11T16:54:00.111057Z",
     "start_time": "2023-03-11T16:45:40.157Z"
    },
    "vscode": {
     "languageId": "r"
    }
   },
   "outputs": [
    {
     "name": "stdout",
     "output_type": "stream",
     "text": [
      "Augmented Dickey-Fuller Test \n",
      "alternative: stationary \n",
      " \n",
      "Type 1: no drift no trend \n",
      "      lag   ADF p.value\n",
      " [1,]   0  70.1    0.99\n",
      " [2,]   1  76.6    0.99\n",
      " [3,]   2  81.6    0.99\n",
      " [4,]   3  86.7    0.99\n",
      " [5,]   4  91.4    0.99\n",
      " [6,]   5  95.8    0.99\n",
      " [7,]   6  99.7    0.99\n",
      " [8,]   7 103.6    0.99\n",
      " [9,]   8 107.5    0.99\n",
      "[10,]   9 111.1    0.99\n",
      "Type 2: with drift no trend \n",
      "      lag   ADF p.value\n",
      " [1,]   0  75.8    0.99\n",
      " [2,]   1  83.1    0.99\n",
      " [3,]   2  89.0    0.99\n",
      " [4,]   3  94.9    0.99\n",
      " [5,]   4 100.4    0.99\n",
      " [6,]   5 105.6    0.99\n",
      " [7,]   6 110.2    0.99\n",
      " [8,]   7 114.9    0.99\n",
      " [9,]   8 119.7    0.99\n",
      "[10,]   9 124.1    0.99\n",
      "Type 3: with drift and trend \n",
      "      lag   ADF p.value\n",
      " [1,]   0  75.9    0.99\n",
      " [2,]   1  83.2    0.99\n",
      " [3,]   2  89.1    0.99\n",
      " [4,]   3  94.9    0.99\n",
      " [5,]   4 100.5    0.99\n",
      " [6,]   5 105.7    0.99\n",
      " [7,]   6 110.3    0.99\n",
      " [8,]   7 115.0    0.99\n",
      " [9,]   8 119.8    0.99\n",
      "[10,]   9 124.2    0.99\n",
      "---- \n",
      "Note: in fact, p.value = 0.01 means p.value <= 0.01 \n"
     ]
    }
   ],
   "source": [
    "aTSA::adf.test(series_raw[, \"visibility_distance_diff\"], nlag = 10)\n"
   ]
  },
  {
   "cell_type": "code",
   "execution_count": 12,
   "metadata": {
    "ExecuteTime": {
     "end_time": "2023-03-11T16:54:06.065109Z",
     "start_time": "2023-03-11T16:45:40.159Z"
    },
    "vscode": {
     "languageId": "r"
    }
   },
   "outputs": [
    {
     "name": "stdout",
     "output_type": "stream",
     "text": [
      "Augmented Dickey-Fuller Test \n",
      "alternative: stationary \n",
      " \n",
      "Type 1: no drift no trend \n",
      "      lag  ADF p.value\n",
      " [1,]   0 27.4    0.99\n",
      " [2,]   1 30.4    0.99\n",
      " [3,]   2 32.2    0.99\n",
      " [4,]   3 33.3    0.99\n",
      " [5,]   4 34.1    0.99\n",
      " [6,]   5 35.0    0.99\n",
      " [7,]   6 35.8    0.99\n",
      " [8,]   7 36.5    0.99\n",
      " [9,]   8 37.2    0.99\n",
      "[10,]   9 37.7    0.99\n",
      "Type 2: with drift no trend \n",
      "      lag   ADF p.value\n",
      " [1,]   0  70.0    0.99\n",
      " [2,]   1  79.1    0.99\n",
      " [3,]   2  85.0    0.99\n",
      " [4,]   3  89.1    0.99\n",
      " [5,]   4  92.5    0.99\n",
      " [6,]   5  96.2    0.99\n",
      " [7,]   6  99.5    0.99\n",
      " [8,]   7 102.6    0.99\n",
      " [9,]   8 105.8    0.99\n",
      "[10,]   9 108.6    0.99\n",
      "Type 3: with drift and trend \n",
      "      lag   ADF p.value\n",
      " [1,]   0  70.0    0.99\n",
      " [2,]   1  79.1    0.99\n",
      " [3,]   2  85.0    0.99\n",
      " [4,]   3  89.1    0.99\n",
      " [5,]   4  92.5    0.99\n",
      " [6,]   5  96.2    0.99\n",
      " [7,]   6  99.5    0.99\n",
      " [8,]   7 102.6    0.99\n",
      " [9,]   8 105.8    0.99\n",
      "[10,]   9 108.6    0.99\n",
      "---- \n",
      "Note: in fact, p.value = 0.01 means p.value <= 0.01 \n"
     ]
    }
   ],
   "source": [
    "aTSA::adf.test(series_raw[, \"wind_speed\"], nlag = 10)\n"
   ]
  },
  {
   "cell_type": "code",
   "execution_count": 13,
   "metadata": {
    "ExecuteTime": {
     "end_time": "2023-03-11T16:54:11.217483Z",
     "start_time": "2023-03-11T16:45:40.160Z"
    },
    "vscode": {
     "languageId": "r"
    }
   },
   "outputs": [
    {
     "name": "stdout",
     "output_type": "stream",
     "text": [
      "Augmented Dickey-Fuller Test \n",
      "alternative: stationary \n",
      " \n",
      "Type 1: no drift no trend \n",
      "      lag   ADF p.value\n",
      " [1,]   0  80.1    0.99\n",
      " [2,]   1  90.9    0.99\n",
      " [3,]   2  98.1    0.99\n",
      " [4,]   3 103.3    0.99\n",
      " [5,]   4 108.0    0.99\n",
      " [6,]   5 112.4    0.99\n",
      " [7,]   6 116.8    0.99\n",
      " [8,]   7 121.6    0.99\n",
      " [9,]   8 126.5    0.99\n",
      "[10,]   9 131.7    0.99\n",
      "Type 2: with drift no trend \n",
      "      lag   ADF p.value\n",
      " [1,]   0  81.2    0.99\n",
      " [2,]   1  92.1    0.99\n",
      " [3,]   2  99.6    0.99\n",
      " [4,]   3 104.9    0.99\n",
      " [5,]   4 109.8    0.99\n",
      " [6,]   5 114.3    0.99\n",
      " [7,]   6 118.9    0.99\n",
      " [8,]   7 123.9    0.99\n",
      " [9,]   8 128.9    0.99\n",
      "[10,]   9 134.3    0.99\n",
      "Type 3: with drift and trend \n",
      "      lag   ADF p.value\n",
      " [1,]   0  81.2    0.99\n",
      " [2,]   1  92.1    0.99\n",
      " [3,]   2  99.6    0.99\n",
      " [4,]   3 104.9    0.99\n",
      " [5,]   4 109.8    0.99\n",
      " [6,]   5 114.3    0.99\n",
      " [7,]   6 118.9    0.99\n",
      " [8,]   7 123.9    0.99\n",
      " [9,]   8 128.9    0.99\n",
      "[10,]   9 134.3    0.99\n",
      "---- \n",
      "Note: in fact, p.value = 0.01 means p.value <= 0.01 \n"
     ]
    }
   ],
   "source": [
    "aTSA::adf.test(series_raw[, \"wind_speed_diff\"], nlag = 10)"
   ]
  },
  {
   "cell_type": "markdown",
   "metadata": {},
   "source": [
    "***\n",
    "\n",
    "### Run on differenced data\n",
    "\n",
    "Only those for which the null hypothesis was not rejected in the majority of the cases"
   ]
  },
  {
   "cell_type": "code",
   "execution_count": 14,
   "metadata": {
    "ExecuteTime": {
     "end_time": "2023-03-11T17:15:41.320216Z",
     "start_time": "2023-03-11T17:08:27.483Z"
    },
    "vscode": {
     "languageId": "r"
    }
   },
   "outputs": [
    {
     "name": "stdout",
     "output_type": "stream",
     "text": [
      "Augmented Dickey-Fuller Test \n",
      "alternative: stationary \n",
      " \n",
      "Type 1: no drift no trend \n",
      "      lag  ADF p.value\n",
      " [1,]   0 3020    0.99\n",
      " [2,]   1 4320    0.99\n",
      " [3,]   2 5259    0.99\n",
      " [4,]   3 6035    0.99\n",
      " [5,]   4 6671    0.99\n",
      " [6,]   5 7216    0.99\n",
      " [7,]   6 7678    0.99\n",
      " [8,]   7 8076    0.99\n",
      " [9,]   8 8429    0.99\n",
      "[10,]   9 8720    0.99\n",
      "Type 2: with drift no trend \n",
      "      lag  ADF p.value\n",
      " [1,]   0 3020    0.99\n",
      " [2,]   1 4320    0.99\n",
      " [3,]   2 5259    0.99\n",
      " [4,]   3 6035    0.99\n",
      " [5,]   4 6671    0.99\n",
      " [6,]   5 7216    0.99\n",
      " [7,]   6 7677    0.99\n",
      " [8,]   7 8076    0.99\n",
      " [9,]   8 8429    0.99\n",
      "[10,]   9 8720    0.99\n",
      "Type 3: with drift and trend \n",
      "      lag  ADF p.value\n",
      " [1,]   0 3020    0.99\n",
      " [2,]   1 4320    0.99\n",
      " [3,]   2 5259    0.99\n",
      " [4,]   3 6035    0.99\n",
      " [5,]   4 6671    0.99\n",
      " [6,]   5 7216    0.99\n",
      " [7,]   6 7677    0.99\n",
      " [8,]   7 8076    0.99\n",
      " [9,]   8 8429    0.99\n",
      "[10,]   9 8720    0.99\n",
      "---- \n",
      "Note: in fact, p.value = 0.01 means p.value <= 0.01 \n"
     ]
    }
   ],
   "source": [
    "aTSA::adf.test(diff(series_m_raw), nlag = 10)"
   ]
  },
  {
   "cell_type": "code",
   "execution_count": 15,
   "metadata": {
    "ExecuteTime": {
     "end_time": "2023-03-11T17:15:46.598973Z",
     "start_time": "2023-03-11T17:08:28.091Z"
    },
    "vscode": {
     "languageId": "r"
    }
   },
   "outputs": [
    {
     "name": "stdout",
     "output_type": "stream",
     "text": [
      "Augmented Dickey-Fuller Test \n",
      "alternative: stationary \n",
      " \n",
      "Type 1: no drift no trend \n",
      "      lag ADF p.value\n",
      " [1,]   0 126    0.99\n",
      " [2,]   1 155    0.99\n",
      " [3,]   2 168    0.99\n",
      " [4,]   3 175    0.99\n",
      " [5,]   4 186    0.99\n",
      " [6,]   5 199    0.99\n",
      " [7,]   6 213    0.99\n",
      " [8,]   7 225    0.99\n",
      " [9,]   8 236    0.99\n",
      "[10,]   9 246    0.99\n",
      "Type 2: with drift no trend \n",
      "      lag ADF p.value\n",
      " [1,]   0 126    0.99\n",
      " [2,]   1 155    0.99\n",
      " [3,]   2 168    0.99\n",
      " [4,]   3 175    0.99\n",
      " [5,]   4 186    0.99\n",
      " [6,]   5 199    0.99\n",
      " [7,]   6 213    0.99\n",
      " [8,]   7 225    0.99\n",
      " [9,]   8 236    0.99\n",
      "[10,]   9 246    0.99\n",
      "Type 3: with drift and trend \n",
      "      lag ADF p.value\n",
      " [1,]   0 126    0.99\n",
      " [2,]   1 155    0.99\n",
      " [3,]   2 168    0.99\n",
      " [4,]   3 175    0.99\n",
      " [5,]   4 186    0.99\n",
      " [6,]   5 199    0.99\n",
      " [7,]   6 213    0.99\n",
      " [8,]   7 225    0.99\n",
      " [9,]   8 236    0.99\n",
      "[10,]   9 246    0.99\n",
      "---- \n",
      "Note: in fact, p.value = 0.01 means p.value <= 0.01 \n"
     ]
    }
   ],
   "source": [
    "aTSA::adf.test(diff(series_raw[, \"air_pressure\"]), nlag = 10)\n"
   ]
  },
  {
   "cell_type": "code",
   "execution_count": 16,
   "metadata": {
    "ExecuteTime": {
     "end_time": "2023-03-11T17:15:51.752312Z",
     "start_time": "2023-03-11T17:08:28.530Z"
    },
    "vscode": {
     "languageId": "r"
    }
   },
   "outputs": [
    {
     "name": "stdout",
     "output_type": "stream",
     "text": [
      "Augmented Dickey-Fuller Test \n",
      "alternative: stationary \n",
      " \n",
      "Type 1: no drift no trend \n",
      "      lag ADF p.value\n",
      " [1,]   0 304    0.99\n",
      " [2,]   1 416    0.99\n",
      " [3,]   2 502    0.99\n",
      " [4,]   3 578    0.99\n",
      " [5,]   4 650    0.99\n",
      " [6,]   5 720    0.99\n",
      " [7,]   6 786    0.99\n",
      " [8,]   7 849    0.99\n",
      " [9,]   8 910    0.99\n",
      "[10,]   9 967    0.99\n",
      "Type 2: with drift no trend \n",
      "      lag ADF p.value\n",
      " [1,]   0 304    0.99\n",
      " [2,]   1 416    0.99\n",
      " [3,]   2 502    0.99\n",
      " [4,]   3 578    0.99\n",
      " [5,]   4 650    0.99\n",
      " [6,]   5 720    0.99\n",
      " [7,]   6 786    0.99\n",
      " [8,]   7 849    0.99\n",
      " [9,]   8 910    0.99\n",
      "[10,]   9 967    0.99\n",
      "Type 3: with drift and trend \n",
      "      lag ADF p.value\n",
      " [1,]   0 304    0.99\n",
      " [2,]   1 416    0.99\n",
      " [3,]   2 502    0.99\n",
      " [4,]   3 578    0.99\n",
      " [5,]   4 650    0.99\n",
      " [6,]   5 720    0.99\n",
      " [7,]   6 786    0.99\n",
      " [8,]   7 849    0.99\n",
      " [9,]   8 910    0.99\n",
      "[10,]   9 967    0.99\n",
      "---- \n",
      "Note: in fact, p.value = 0.01 means p.value <= 0.01 \n"
     ]
    }
   ],
   "source": [
    "aTSA::adf.test(diff(series_raw[, \"air_pressure_diff\"]), nlag = 10)\n"
   ]
  },
  {
   "cell_type": "code",
   "execution_count": 17,
   "metadata": {
    "ExecuteTime": {
     "end_time": "2023-03-11T17:15:56.827127Z",
     "start_time": "2023-03-11T17:08:28.907Z"
    },
    "vscode": {
     "languageId": "r"
    }
   },
   "outputs": [
    {
     "name": "stdout",
     "output_type": "stream",
     "text": [
      "Augmented Dickey-Fuller Test \n",
      "alternative: stationary \n",
      " \n",
      "Type 1: no drift no trend \n",
      "      lag ADF p.value\n",
      " [1,]   0 198    0.99\n",
      " [2,]   1 265    0.99\n",
      " [3,]   2 323    0.99\n",
      " [4,]   3 391    0.99\n",
      " [5,]   4 464    0.99\n",
      " [6,]   5 542    0.99\n",
      " [7,]   6 624    0.99\n",
      " [8,]   7 714    0.99\n",
      " [9,]   8 803    0.99\n",
      "[10,]   9 883    0.99\n",
      "Type 2: with drift no trend \n",
      "      lag ADF p.value\n",
      " [1,]   0 198    0.99\n",
      " [2,]   1 265    0.99\n",
      " [3,]   2 323    0.99\n",
      " [4,]   3 391    0.99\n",
      " [5,]   4 464    0.99\n",
      " [6,]   5 542    0.99\n",
      " [7,]   6 624    0.99\n",
      " [8,]   7 714    0.99\n",
      " [9,]   8 803    0.99\n",
      "[10,]   9 883    0.99\n",
      "Type 3: with drift and trend \n",
      "      lag ADF p.value\n",
      " [1,]   0 198    0.99\n",
      " [2,]   1 264    0.99\n",
      " [3,]   2 323    0.99\n",
      " [4,]   3 391    0.99\n",
      " [5,]   4 464    0.99\n",
      " [6,]   5 542    0.99\n",
      " [7,]   6 624    0.99\n",
      " [8,]   7 714    0.99\n",
      " [9,]   8 803    0.99\n",
      "[10,]   9 883    0.99\n",
      "---- \n",
      "Note: in fact, p.value = 0.01 means p.value <= 0.01 \n"
     ]
    }
   ],
   "source": [
    "aTSA::adf.test(diff(series_raw[, \"price_eur_mwh\"]), nlag = 10)\n"
   ]
  },
  {
   "cell_type": "code",
   "execution_count": 18,
   "metadata": {
    "ExecuteTime": {
     "end_time": "2023-03-11T17:16:02.429498Z",
     "start_time": "2023-03-11T17:08:29.282Z"
    },
    "vscode": {
     "languageId": "r"
    }
   },
   "outputs": [
    {
     "name": "stdout",
     "output_type": "stream",
     "text": [
      "Augmented Dickey-Fuller Test \n",
      "alternative: stationary \n",
      " \n",
      "Type 1: no drift no trend \n",
      "      lag ADF p.value\n",
      " [1,]   0 178    0.99\n",
      " [2,]   1 229    0.99\n",
      " [3,]   2 261    0.99\n",
      " [4,]   3 288    0.99\n",
      " [5,]   4 315    0.99\n",
      " [6,]   5 344    0.99\n",
      " [7,]   6 377    0.99\n",
      " [8,]   7 415    0.99\n",
      " [9,]   8 458    0.99\n",
      "[10,]   9 508    0.99\n",
      "Type 2: with drift no trend \n",
      "      lag ADF p.value\n",
      " [1,]   0 178    0.99\n",
      " [2,]   1 229    0.99\n",
      " [3,]   2 261    0.99\n",
      " [4,]   3 288    0.99\n",
      " [5,]   4 315    0.99\n",
      " [6,]   5 344    0.99\n",
      " [7,]   6 377    0.99\n",
      " [8,]   7 415    0.99\n",
      " [9,]   8 458    0.99\n",
      "[10,]   9 508    0.99\n",
      "Type 3: with drift and trend \n",
      "      lag ADF p.value\n",
      " [1,]   0 178    0.99\n",
      " [2,]   1 229    0.99\n",
      " [3,]   2 261    0.99\n",
      " [4,]   3 288    0.99\n",
      " [5,]   4 315    0.99\n",
      " [6,]   5 344    0.99\n",
      " [7,]   6 377    0.99\n",
      " [8,]   7 415    0.99\n",
      " [9,]   8 458    0.99\n",
      "[10,]   9 508    0.99\n",
      "---- \n",
      "Note: in fact, p.value = 0.01 means p.value <= 0.01 \n"
     ]
    }
   ],
   "source": [
    "aTSA::adf.test(diff(series_raw[, \"temperature\"]), nlag = 10)\n"
   ]
  },
  {
   "cell_type": "code",
   "execution_count": 19,
   "metadata": {
    "ExecuteTime": {
     "end_time": "2023-03-11T17:16:07.686558Z",
     "start_time": "2023-03-11T17:08:29.634Z"
    },
    "vscode": {
     "languageId": "r"
    }
   },
   "outputs": [
    {
     "name": "stdout",
     "output_type": "stream",
     "text": [
      "Augmented Dickey-Fuller Test \n",
      "alternative: stationary \n",
      " \n",
      "Type 1: no drift no trend \n",
      "      lag  ADF p.value\n",
      " [1,]   0  304    0.99\n",
      " [2,]   1  423    0.99\n",
      " [3,]   2  513    0.99\n",
      " [4,]   3  590    0.99\n",
      " [5,]   4  660    0.99\n",
      " [6,]   5  727    0.99\n",
      " [7,]   6  794    0.99\n",
      " [8,]   7  863    0.99\n",
      " [9,]   8  935    0.99\n",
      "[10,]   9 1010    0.99\n",
      "Type 2: with drift no trend \n",
      "      lag  ADF p.value\n",
      " [1,]   0  304    0.99\n",
      " [2,]   1  423    0.99\n",
      " [3,]   2  513    0.99\n",
      " [4,]   3  590    0.99\n",
      " [5,]   4  660    0.99\n",
      " [6,]   5  727    0.99\n",
      " [7,]   6  794    0.99\n",
      " [8,]   7  863    0.99\n",
      " [9,]   8  935    0.99\n",
      "[10,]   9 1010    0.99\n",
      "Type 3: with drift and trend \n",
      "      lag  ADF p.value\n",
      " [1,]   0  304    0.99\n",
      " [2,]   1  423    0.99\n",
      " [3,]   2  513    0.99\n",
      " [4,]   3  590    0.99\n",
      " [5,]   4  660    0.99\n",
      " [6,]   5  727    0.99\n",
      " [7,]   6  794    0.99\n",
      " [8,]   7  863    0.99\n",
      " [9,]   8  935    0.99\n",
      "[10,]   9 1010    0.99\n",
      "---- \n",
      "Note: in fact, p.value = 0.01 means p.value <= 0.01 \n"
     ]
    }
   ],
   "source": [
    "aTSA::adf.test(diff(series_raw[, \"visibility_distance\"]), nlag = 10)\n"
   ]
  },
  {
   "cell_type": "code",
   "execution_count": 20,
   "metadata": {
    "ExecuteTime": {
     "end_time": "2023-03-11T17:16:13.243912Z",
     "start_time": "2023-03-11T17:08:30.010Z"
    },
    "vscode": {
     "languageId": "r"
    }
   },
   "outputs": [
    {
     "name": "stdout",
     "output_type": "stream",
     "text": [
      "Augmented Dickey-Fuller Test \n",
      "alternative: stationary \n",
      " \n",
      "Type 1: no drift no trend \n",
      "      lag  ADF p.value\n",
      " [1,]   0  335    0.99\n",
      " [2,]   1  488    0.99\n",
      " [3,]   2  616    0.99\n",
      " [4,]   3  733    0.99\n",
      " [5,]   4  844    0.99\n",
      " [6,]   5  950    0.99\n",
      " [7,]   6 1055    0.99\n",
      " [8,]   7 1160    0.99\n",
      " [9,]   8 1264    0.99\n",
      "[10,]   9 1369    0.99\n",
      "Type 2: with drift no trend \n",
      "      lag  ADF p.value\n",
      " [1,]   0  335    0.99\n",
      " [2,]   1  488    0.99\n",
      " [3,]   2  616    0.99\n",
      " [4,]   3  733    0.99\n",
      " [5,]   4  844    0.99\n",
      " [6,]   5  950    0.99\n",
      " [7,]   6 1055    0.99\n",
      " [8,]   7 1160    0.99\n",
      " [9,]   8 1264    0.99\n",
      "[10,]   9 1369    0.99\n",
      "Type 3: with drift and trend \n",
      "      lag  ADF p.value\n",
      " [1,]   0  335    0.99\n",
      " [2,]   1  488    0.99\n",
      " [3,]   2  616    0.99\n",
      " [4,]   3  733    0.99\n",
      " [5,]   4  844    0.99\n",
      " [6,]   5  950    0.99\n",
      " [7,]   6 1055    0.99\n",
      " [8,]   7 1160    0.99\n",
      " [9,]   8 1264    0.99\n",
      "[10,]   9 1369    0.99\n",
      "---- \n",
      "Note: in fact, p.value = 0.01 means p.value <= 0.01 \n"
     ]
    }
   ],
   "source": [
    "aTSA::adf.test(diff(series_raw[, \"visibility_distance_diff\"]), nlag = 10)\n"
   ]
  },
  {
   "cell_type": "code",
   "execution_count": 21,
   "metadata": {
    "ExecuteTime": {
     "end_time": "2023-03-11T17:16:18.959494Z",
     "start_time": "2023-03-11T17:08:30.378Z"
    },
    "vscode": {
     "languageId": "r"
    }
   },
   "outputs": [
    {
     "name": "stdout",
     "output_type": "stream",
     "text": [
      "Augmented Dickey-Fuller Test \n",
      "alternative: stationary \n",
      " \n",
      "Type 1: no drift no trend \n",
      "      lag  ADF p.value\n",
      " [1,]   0  355    0.99\n",
      " [2,]   1  524    0.99\n",
      " [3,]   2  660    0.99\n",
      " [4,]   3  781    0.99\n",
      " [5,]   4  895    0.99\n",
      " [6,]   5 1004    0.99\n",
      " [7,]   6 1108    0.99\n",
      " [8,]   7 1212    0.99\n",
      " [9,]   8 1312    0.99\n",
      "[10,]   9 1414    0.99\n",
      "Type 2: with drift no trend \n",
      "      lag  ADF p.value\n",
      " [1,]   0  355    0.99\n",
      " [2,]   1  524    0.99\n",
      " [3,]   2  660    0.99\n",
      " [4,]   3  781    0.99\n",
      " [5,]   4  895    0.99\n",
      " [6,]   5 1004    0.99\n",
      " [7,]   6 1108    0.99\n",
      " [8,]   7 1212    0.99\n",
      " [9,]   8 1312    0.99\n",
      "[10,]   9 1414    0.99\n",
      "Type 3: with drift and trend \n",
      "      lag  ADF p.value\n",
      " [1,]   0  355    0.99\n",
      " [2,]   1  524    0.99\n",
      " [3,]   2  660    0.99\n",
      " [4,]   3  781    0.99\n",
      " [5,]   4  895    0.99\n",
      " [6,]   5 1004    0.99\n",
      " [7,]   6 1108    0.99\n",
      " [8,]   7 1212    0.99\n",
      " [9,]   8 1312    0.99\n",
      "[10,]   9 1414    0.99\n",
      "---- \n",
      "Note: in fact, p.value = 0.01 means p.value <= 0.01 \n"
     ]
    }
   ],
   "source": [
    "aTSA::adf.test(diff(series_raw[, \"wind_speed\"]), nlag = 10)\n"
   ]
  },
  {
   "cell_type": "code",
   "execution_count": 22,
   "metadata": {
    "ExecuteTime": {
     "end_time": "2023-03-11T17:16:23.970294Z",
     "start_time": "2023-03-11T17:08:30.796Z"
    },
    "vscode": {
     "languageId": "r"
    }
   },
   "outputs": [
    {
     "name": "stdout",
     "output_type": "stream",
     "text": [
      "Augmented Dickey-Fuller Test \n",
      "alternative: stationary \n",
      " \n",
      "Type 1: no drift no trend \n",
      "      lag  ADF p.value\n",
      " [1,]   0  353    0.99\n",
      " [2,]   1  520    0.99\n",
      " [3,]   2  654    0.99\n",
      " [4,]   3  773    0.99\n",
      " [5,]   4  883    0.99\n",
      " [6,]   5  986    0.99\n",
      " [7,]   6 1087    0.99\n",
      " [8,]   7 1187    0.99\n",
      " [9,]   8 1289    0.99\n",
      "[10,]   9 1394    0.99\n",
      "Type 2: with drift no trend \n",
      "      lag  ADF p.value\n",
      " [1,]   0  353    0.99\n",
      " [2,]   1  520    0.99\n",
      " [3,]   2  654    0.99\n",
      " [4,]   3  773    0.99\n",
      " [5,]   4  883    0.99\n",
      " [6,]   5  986    0.99\n",
      " [7,]   6 1087    0.99\n",
      " [8,]   7 1187    0.99\n",
      " [9,]   8 1289    0.99\n",
      "[10,]   9 1394    0.99\n",
      "Type 3: with drift and trend \n",
      "      lag  ADF p.value\n",
      " [1,]   0  353    0.99\n",
      " [2,]   1  520    0.99\n",
      " [3,]   2  654    0.99\n",
      " [4,]   3  773    0.99\n",
      " [5,]   4  883    0.99\n",
      " [6,]   5  986    0.99\n",
      " [7,]   6 1087    0.99\n",
      " [8,]   7 1187    0.99\n",
      " [9,]   8 1289    0.99\n",
      "[10,]   9 1394    0.99\n",
      "---- \n",
      "Note: in fact, p.value = 0.01 means p.value <= 0.01 \n"
     ]
    }
   ],
   "source": [
    "aTSA::adf.test(diff(series_raw[, \"wind_speed_diff\"]), nlag = 10)"
   ]
  },
  {
   "cell_type": "markdown",
   "metadata": {},
   "source": [
    "### Differences with `tseries::adf.test` default values"
   ]
  },
  {
   "cell_type": "code",
   "execution_count": 3,
   "metadata": {
    "vscode": {
     "languageId": "r"
    }
   },
   "outputs": [
    {
     "name": "stderr",
     "output_type": "stream",
     "text": [
      "Warning message in tseries::adf.test(na.omit(diff(series_m_raw))):\n",
      "\"p-value smaller than printed p-value\"\n"
     ]
    },
    {
     "data": {
      "text/plain": [
       "\n",
       "\tAugmented Dickey-Fuller Test\n",
       "\n",
       "data:  na.omit(diff(series_m_raw))\n",
       "Dickey-Fuller = -139.87, Lag order = 179, p-value = 0.01\n",
       "alternative hypothesis: stationary\n"
      ]
     },
     "metadata": {},
     "output_type": "display_data"
    }
   ],
   "source": [
    "tseries::adf.test(na.omit(diff(series_m_raw)))"
   ]
  },
  {
   "cell_type": "code",
   "execution_count": 4,
   "metadata": {
    "vscode": {
     "languageId": "r"
    }
   },
   "outputs": [
    {
     "name": "stderr",
     "output_type": "stream",
     "text": [
      "Warning message in tseries::adf.test(na.omit(diff(series_raw[, \"air_pressure\"]))):\n",
      "\"p-value smaller than printed p-value\"\n"
     ]
    },
    {
     "data": {
      "text/plain": [
       "\n",
       "\tAugmented Dickey-Fuller Test\n",
       "\n",
       "data:  na.omit(diff(series_raw[, \"air_pressure\"]))\n",
       "Dickey-Fuller = -43.748, Lag order = 45, p-value = 0.01\n",
       "alternative hypothesis: stationary\n"
      ]
     },
     "metadata": {},
     "output_type": "display_data"
    }
   ],
   "source": [
    "tseries::adf.test(na.omit(diff(series_raw[, \"air_pressure\"])))"
   ]
  },
  {
   "cell_type": "code",
   "execution_count": 5,
   "metadata": {
    "vscode": {
     "languageId": "r"
    }
   },
   "outputs": [
    {
     "name": "stderr",
     "output_type": "stream",
     "text": [
      "Warning message in tseries::adf.test(na.omit(diff(series_raw[, \"air_pressure_diff\"]))):\n",
      "\"p-value smaller than printed p-value\"\n"
     ]
    },
    {
     "data": {
      "text/plain": [
       "\n",
       "\tAugmented Dickey-Fuller Test\n",
       "\n",
       "data:  na.omit(diff(series_raw[, \"air_pressure_diff\"]))\n",
       "Dickey-Fuller = -63.233, Lag order = 45, p-value = 0.01\n",
       "alternative hypothesis: stationary\n"
      ]
     },
     "metadata": {},
     "output_type": "display_data"
    }
   ],
   "source": [
    "tseries::adf.test(na.omit(diff(series_raw[, \"air_pressure_diff\"])))"
   ]
  },
  {
   "cell_type": "code",
   "execution_count": 6,
   "metadata": {
    "vscode": {
     "languageId": "r"
    }
   },
   "outputs": [
    {
     "name": "stderr",
     "output_type": "stream",
     "text": [
      "Warning message in tseries::adf.test(na.omit(diff(series_raw[, \"price_eur_mwh\"]))):\n",
      "\"p-value smaller than printed p-value\"\n"
     ]
    },
    {
     "data": {
      "text/plain": [
       "\n",
       "\tAugmented Dickey-Fuller Test\n",
       "\n",
       "data:  na.omit(diff(series_raw[, \"price_eur_mwh\"]))\n",
       "Dickey-Fuller = -66.596, Lag order = 45, p-value = 0.01\n",
       "alternative hypothesis: stationary\n"
      ]
     },
     "metadata": {},
     "output_type": "display_data"
    }
   ],
   "source": [
    "tseries::adf.test(na.omit(diff(series_raw[, \"price_eur_mwh\"])))"
   ]
  },
  {
   "cell_type": "code",
   "execution_count": 7,
   "metadata": {
    "vscode": {
     "languageId": "r"
    }
   },
   "outputs": [
    {
     "name": "stderr",
     "output_type": "stream",
     "text": [
      "Warning message in tseries::adf.test(na.omit(diff(series_raw[, \"temperature\"]))):\n",
      "\"p-value smaller than printed p-value\"\n"
     ]
    },
    {
     "data": {
      "text/plain": [
       "\n",
       "\tAugmented Dickey-Fuller Test\n",
       "\n",
       "data:  na.omit(diff(series_raw[, \"temperature\"]))\n",
       "Dickey-Fuller = -55.211, Lag order = 45, p-value = 0.01\n",
       "alternative hypothesis: stationary\n"
      ]
     },
     "metadata": {},
     "output_type": "display_data"
    }
   ],
   "source": [
    "tseries::adf.test(na.omit(diff(series_raw[, \"temperature\"])))"
   ]
  },
  {
   "cell_type": "code",
   "execution_count": 8,
   "metadata": {
    "vscode": {
     "languageId": "r"
    }
   },
   "outputs": [
    {
     "name": "stderr",
     "output_type": "stream",
     "text": [
      "Warning message in tseries::adf.test(na.omit(diff(series_raw[, \"visibility_distance\"]))):\n",
      "\"p-value smaller than printed p-value\"\n"
     ]
    },
    {
     "data": {
      "text/plain": [
       "\n",
       "\tAugmented Dickey-Fuller Test\n",
       "\n",
       "data:  na.omit(diff(series_raw[, \"visibility_distance\"]))\n",
       "Dickey-Fuller = -66.336, Lag order = 45, p-value = 0.01\n",
       "alternative hypothesis: stationary\n"
      ]
     },
     "metadata": {},
     "output_type": "display_data"
    }
   ],
   "source": [
    "tseries::adf.test(na.omit(diff(series_raw[, \"visibility_distance\"])))"
   ]
  },
  {
   "cell_type": "code",
   "execution_count": 9,
   "metadata": {
    "vscode": {
     "languageId": "r"
    }
   },
   "outputs": [
    {
     "name": "stderr",
     "output_type": "stream",
     "text": [
      "Warning message in tseries::adf.test(na.omit(diff(series_raw[, \"visibility_distance_diff\"]))):\n",
      "\"p-value smaller than printed p-value\"\n"
     ]
    },
    {
     "data": {
      "text/plain": [
       "\n",
       "\tAugmented Dickey-Fuller Test\n",
       "\n",
       "data:  na.omit(diff(series_raw[, \"visibility_distance_diff\"]))\n",
       "Dickey-Fuller = -68.801, Lag order = 45, p-value = 0.01\n",
       "alternative hypothesis: stationary\n"
      ]
     },
     "metadata": {},
     "output_type": "display_data"
    }
   ],
   "source": [
    "tseries::adf.test(na.omit(diff(series_raw[, \"visibility_distance_diff\"])))"
   ]
  },
  {
   "cell_type": "code",
   "execution_count": 10,
   "metadata": {
    "vscode": {
     "languageId": "r"
    }
   },
   "outputs": [
    {
     "name": "stderr",
     "output_type": "stream",
     "text": [
      "Warning message in tseries::adf.test(na.omit(diff(series_raw[, \"wind_speed\"]))):\n",
      "\"p-value smaller than printed p-value\"\n"
     ]
    },
    {
     "data": {
      "text/plain": [
       "\n",
       "\tAugmented Dickey-Fuller Test\n",
       "\n",
       "data:  na.omit(diff(series_raw[, \"wind_speed\"]))\n",
       "Dickey-Fuller = -65.392, Lag order = 45, p-value = 0.01\n",
       "alternative hypothesis: stationary\n"
      ]
     },
     "metadata": {},
     "output_type": "display_data"
    }
   ],
   "source": [
    "tseries::adf.test(na.omit(diff(series_raw[, \"wind_speed\"])))"
   ]
  },
  {
   "cell_type": "code",
   "execution_count": 11,
   "metadata": {
    "vscode": {
     "languageId": "r"
    }
   },
   "outputs": [
    {
     "name": "stderr",
     "output_type": "stream",
     "text": [
      "Warning message in tseries::adf.test(na.omit(diff(series_raw[, \"wind_speed_diff\"]))):\n",
      "\"p-value smaller than printed p-value\"\n"
     ]
    },
    {
     "data": {
      "text/plain": [
       "\n",
       "\tAugmented Dickey-Fuller Test\n",
       "\n",
       "data:  na.omit(diff(series_raw[, \"wind_speed_diff\"]))\n",
       "Dickey-Fuller = -74.102, Lag order = 45, p-value = 0.01\n",
       "alternative hypothesis: stationary\n"
      ]
     },
     "metadata": {},
     "output_type": "display_data"
    }
   ],
   "source": [
    "tseries::adf.test(na.omit(diff(series_raw[, \"wind_speed_diff\"])))"
   ]
  }
 ],
 "metadata": {
  "kernelspec": {
   "display_name": "R",
   "language": "R",
   "name": "ir"
  },
  "language_info": {
   "codemirror_mode": "r",
   "file_extension": ".r",
   "mimetype": "text/x-r-source",
   "name": "R",
   "pygments_lexer": "r",
   "version": "4.2.2"
  }
 },
 "nbformat": 4,
 "nbformat_minor": 2
}
